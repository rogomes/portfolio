{
 "cells": [
  {
   "cell_type": "markdown",
   "metadata": {},
   "source": [
    "# Monty Hall problem #\n",
    "*By Rosana de Oliveira Gomes*\n",
    "\n",
    "Learning probability and implementing Monte Carlo simulations with the [Monty Hall problem](https://en.wikipedia.org/wiki/Monty_Hall_problem). \n",
    "\n",
    "\n",
    "### Problem:\n",
    "The Monty Hall problem is a probability puzzle inspired on the TV show *Let's Make a Deal* and named after its original host, Monty Hall. \n",
    "\n",
    "The problem statement is the following: \n",
    "\n",
    "*Given 3 closed doors containing 2 goats and 1 car, find a scenario that maximizes the chances of open a door with the car.*\n",
    "\n",
    "<img src=\"Monty_open_door.svg\" width=\"200\">\n",
    "\n",
    "*Source: [Monty Hall problem](https://en.wikipedia.org/wiki/Monty_Hall_problem)*\n",
    "\n",
    "In this problem, once the players choose a door, it is given the chance to change their mind. This results in two possible scenarios: \n",
    "\n",
    "**Scenario One:** Choose number of a door and keep the choice after one door that has a goat is revealed.\n",
    "\n",
    "\n",
    "**Scenario Two:** Choose number of a door and change choice after one door that has a goat is revealed.\n",
    "\n",
    "\n",
    "Putting it in a mathematical way, we want to answer the question: *What scenario has the highest probability of getting a car?*\n",
    "\n",
    "In what follows, we are going to solve this problem following two approaches:\n",
    "* Numerical approach: implementing a Monte Carlo simulation for the problem,\n",
    "* Analytical approach: solving the problem using probability theory."
   ]
  },
  {
   "cell_type": "code",
   "execution_count": 1,
   "metadata": {},
   "outputs": [],
   "source": [
    "import numpy as np\n",
    "import matplotlib.pylab as plt"
   ]
  },
  {
   "cell_type": "markdown",
   "metadata": {},
   "source": [
    "### Generating a Random Game ###\n",
    "\n",
    "Create a function `Game()` that randomly selects a car or a goat from a list `L` and assigns a door to each in the variable `game`. The door  that contains the car is stored in the variable `KeyCar`.\n",
    "\n",
    "One can test the function with the variable `game1` and check if it returns random games. \n"
   ]
  },
  {
   "cell_type": "code",
   "execution_count": 2,
   "metadata": {},
   "outputs": [
    {
     "data": {
      "text/plain": [
       "{'door1': 'goat', 'door2': 'car', 'door3': 'goat'}"
      ]
     },
     "execution_count": 2,
     "metadata": {},
     "output_type": "execute_result"
    }
   ],
   "source": [
    "# Generate game randomly\n",
    "\n",
    "def Game():\n",
    "    \n",
    "    global KeyCar\n",
    "    \n",
    "    L=['car','goat','goat']\n",
    "    np.random.shuffle(L)\n",
    "     \n",
    "    game={'door1':L[0], 'door2':L[1], 'door3':L[2]}\n",
    "    \n",
    "    KeyCar = 'door{}'.format(L.index('car')+1)\n",
    "\n",
    "    #print(KeyCar, L.index('car'))\n",
    "\n",
    "    return game \n",
    "\n",
    "\n",
    "game1 = Game()    \n",
    "\n",
    "game1"
   ]
  },
  {
   "cell_type": "markdown",
   "metadata": {},
   "source": [
    "### Choosing First Door ###\n",
    "\n",
    "Now the player chooses the first door to be opened with the function `FirstChoice(game)`, which has a dictionary game as an input and a randomly chosen door as an output.  \n",
    "\n",
    "This is done by first storing the game keys in the variable `keys`, followed by a random key selection stored in a variable `choice`.   \n",
    "\n",
    "One can check a random door choice with the variable `choice1`. "
   ]
  },
  {
   "cell_type": "code",
   "execution_count": 3,
   "metadata": {},
   "outputs": [
    {
     "name": "stdout",
     "output_type": "stream",
     "text": [
      "door1\n"
     ]
    }
   ],
   "source": [
    "# Player's first random choice\n",
    "\n",
    "def FirstChoice(game):\n",
    "    # keys gives an iterator of the keys in a dictionary\n",
    "    keys=list(game.keys())\n",
    "\n",
    "    # choice returns a random choice from a list\n",
    "    choice= np.random.choice(keys)\n",
    "    return choice \n",
    "\n",
    "choice1= FirstChoice(game1)\n",
    "print(choice1)"
   ]
  },
  {
   "cell_type": "markdown",
   "metadata": {},
   "source": [
    "### Opening First Door ###\n",
    "\n",
    "We want to open a door that has a goat and that is not the player's choice. For that, we create a function `OpenDoor(game,choice)` that has the game dictionary and the player's first door choice as an input.   \n",
    "\n",
    "First, we make a copy of the  already defined `game` dictionary into a `CopyDic` variable. The players's first choice is then removed from the `CopyDic` keys. \n",
    "\n",
    "Also we need to check if the player's choice is different from the door that contains a car, in order to avoid trying to remove the same key twice. The remaining keys are store in the variable `keys2`, which is used to randomly select the new door to be opened in the variable `door`. \n",
    "\n",
    "The function return the first to be opened. \n",
    "In the example given above, one can check the randomly generated game, the player's first choice of door and the first door opened by printing `game1`, `choice1`, `open1`. "
   ]
  },
  {
   "cell_type": "code",
   "execution_count": 4,
   "metadata": {},
   "outputs": [
    {
     "name": "stdout",
     "output_type": "stream",
     "text": [
      "{'door1': 'goat', 'door2': 'car', 'door3': 'goat'} door1 door3\n"
     ]
    }
   ],
   "source": [
    "# Opens a door with a goat\n",
    "\n",
    "def OpenDoor(game,choice):\n",
    "    \n",
    "    # Make a copy of the game dictionary and exclude player's choice and car\n",
    "    CopyDic = game.copy()\n",
    "    del CopyDic[choice]    \n",
    "    \n",
    "    if choice != KeyCar:\n",
    "        del CopyDic[KeyCar]\n",
    "\n",
    "    # Get keys from the shorter dictionary\n",
    "    keys2 = list(CopyDic.keys())\n",
    "    \n",
    "    # Choose randomly a key \n",
    "    door = np.random.choice(keys2)\n",
    "    \n",
    "    return door\n",
    "\n",
    "open1 = OpenDoor(game1,choice1)\n",
    "\n",
    "print(game1, choice1, open1)\n"
   ]
  },
  {
   "cell_type": "markdown",
   "metadata": {},
   "source": [
    "### Choosing New Door ###\n",
    "\n",
    "Now the player knows what is behind one of the doors and can choose between keeping the first choice or choose the remaining door. \n"
   ]
  },
  {
   "cell_type": "code",
   "execution_count": 5,
   "metadata": {},
   "outputs": [
    {
     "name": "stdout",
     "output_type": "stream",
     "text": [
      "Game: {'door1': 'goat', 'door2': 'car', 'door3': 'goat'} , First Choice: door1 , Open Door: door3 , New Choice: door2\n"
     ]
    }
   ],
   "source": [
    "# Player new door choice\n",
    "\n",
    "def NewChoice(game,choice,opend):\n",
    "   \n",
    "    # Make a copy of the game dictionary and exclude player's choice and car\n",
    "    CopyDic = game.copy()\n",
    "    del CopyDic[choice]    \n",
    "    \n",
    "    if choice != opend:\n",
    "        del CopyDic[opend]\n",
    "\n",
    "    # Get keys from the shorter dictionary\n",
    "    newdoor = list(CopyDic.keys())\n",
    "    \n",
    "    if len(newdoor)!= 1:\n",
    "        raise ValueError('Chosen and opened door cannot be the same')\n",
    "    \n",
    "    return newdoor[0]\n",
    "    \n",
    "newdoor1= NewChoice(game1,choice1,open1)\n",
    "\n",
    "print('Game:', game1, ', First Choice:', choice1, ', Open Door:', open1, ', New Choice:', newdoor1)\n"
   ]
  },
  {
   "cell_type": "markdown",
   "metadata": {},
   "source": [
    "### Game Results ###\n",
    "\n",
    "Once the game setup and choices for door and stablished, we can now write a new function `GetResults`. The function displays the game results for a given choice of game strategy (choice of changing door to be opened or not), represented by the variable `change_door`."
   ]
  },
  {
   "cell_type": "code",
   "execution_count": 6,
   "metadata": {},
   "outputs": [
    {
     "name": "stdout",
     "output_type": "stream",
     "text": [
      "goat\n"
     ]
    }
   ],
   "source": [
    "# Game implementation and results\n",
    "\n",
    "def GameResult(change_door):\n",
    "      \n",
    "    game = Game()                  # create game setup\n",
    "    \n",
    "    choice = FirstChoice(game)     # player chooses door \n",
    "    \n",
    "    opend = OpenDoor(game,choice)  # door with goat is opened\n",
    "    \n",
    "    # Check if player chooses to change doors\n",
    "    if change_door: \n",
    "        choice = NewChoice(game,choice,opend)\n",
    "   \n",
    "      \n",
    "    return game[choice]\n",
    "\n",
    "results = GameResult(False)\n",
    "print(results)"
   ]
  },
  {
   "cell_type": "markdown",
   "metadata": {},
   "source": [
    "### Loop for several games ###\n",
    "\n",
    "For estimating the probability of getting a car with each strategy, we now perform several simulations randomly for both cases of changing the first choice and not. \n",
    "\n",
    "We start with not changing the first choice:\n"
   ]
  },
  {
   "cell_type": "code",
   "execution_count": 7,
   "metadata": {},
   "outputs": [
    {
     "name": "stdout",
     "output_type": "stream",
     "text": [
      "Probability of winning a car without changing door: 0.333164\n",
      "Probability of winning a car changing door: 0.666388\n"
     ]
    }
   ],
   "source": [
    "def GetProbability(change_door):\n",
    "\n",
    "    # Setting number of cars and goats in the simulation\n",
    "    cars = 0\n",
    "    goats = 0\n",
    "    number = 500000\n",
    "\n",
    "    # Making a loop over number of times game is played\n",
    "    for i in range(number):\n",
    "\n",
    "        results1 = GameResult(change_door)\n",
    "\n",
    "        if results1 == 'car':\n",
    "            cars += 1\n",
    "        else:\n",
    "            goats +=1\n",
    "\n",
    "    prob_car = cars/(cars+goats) \n",
    "    prob_goat = goats/(cars+goats)\n",
    "\n",
    "    return prob_car\n",
    "\n",
    "# Checking results for the two strategies (not changing and changing door choice)\n",
    "    \n",
    "game_nochange = GetProbability(False)\n",
    "    \n",
    "print('Probability of winning a car without changing door:', game_nochange)\n",
    "\n",
    "game_change = GetProbability(True)\n",
    "    \n",
    "print('Probability of winning a car changing door:', game_change)"
   ]
  },
  {
   "cell_type": "markdown",
   "metadata": {},
   "source": [
    "## Convergence of Monte Carlo estimations ###\n",
    "\n",
    "Now that we got the respective probabilities for getting a car in both scenarios, we can go a step further and analyze how the probabilities converge as a function of the number of games played. \n",
    "\n",
    "For doing that, we modify the function `GetProbability` into the function `ProbConv`, which also has the variable `change_door` as an argument. The difference here is that we will store the probability of getting a car for each game played."
   ]
  },
  {
   "cell_type": "code",
   "execution_count": 8,
   "metadata": {},
   "outputs": [],
   "source": [
    "def ProbConv(change_door):\n",
    "\n",
    "    # Setting number of cars and goats in the simulation\n",
    "    cars = 0\n",
    "    goats = 0\n",
    "    number = 100000\n",
    "    \n",
    "    # Empty list to store car probabilities\n",
    "    probs_car = []\n",
    "    \n",
    "    # Making a loop over number of times game is played\n",
    "    for i in range(number):\n",
    "\n",
    "        results1 = GameResult(change_door)\n",
    "\n",
    "        if results1 == 'car':\n",
    "            cars += 1\n",
    "        else:\n",
    "            goats +=1\n",
    "\n",
    "        prob_car = cars/(cars+goats) \n",
    "#        prob_goat = goats/(cars+goats)\n",
    "        probs_car.append(prob_car)        \n",
    "\n",
    "    return probs_car"
   ]
  },
  {
   "cell_type": "markdown",
   "metadata": {},
   "source": [
    "We can visualize the probabilies in different scenarios by creating a function `PlotProb`, which has again the variable `change_door` as an argument:"
   ]
  },
  {
   "cell_type": "code",
   "execution_count": 9,
   "metadata": {},
   "outputs": [],
   "source": [
    "def PlotProb(change_door):\n",
    "\n",
    "    # Getting the probabilities of getting a car\n",
    "    probs_nochange = ProbConv(change_door)\n",
    "    \n",
    "    if change_door == False:\n",
    "        label = 'keeping door choice'\n",
    "        expected  = 1/3\n",
    "    else:\n",
    "        label = 'changing door choice'\n",
    "        expected  = 2/3\n",
    "    \n",
    "    plt.figure()\n",
    "    plt.title('Probability convergence ' + label)\n",
    "    plt.xlabel('iteration')\n",
    "    plt.ylabel('Probability of getting a car')\n",
    "    plt.plot(probs_nochange,color='black')\n",
    "    \n",
    "    # Highlighting the expected value\n",
    "    plt.axhline(expected,color='red',linewidth=0.7)\n",
    " \n",
    "    max = expected + 0.05\n",
    "    min = expected - 0.05\n",
    "    plt.ylim(min,max)\n"
   ]
  },
  {
   "cell_type": "markdown",
   "metadata": {},
   "source": [
    "We can now have a look at the results for both cases:"
   ]
  },
  {
   "cell_type": "code",
   "execution_count": 10,
   "metadata": {},
   "outputs": [
    {
     "data": {
      "image/png": "[encoded data removed]",
      "text/plain": [
       "<Figure size 432x288 with 1 Axes>"
      ]
     },
     "metadata": {
      "needs_background": "light"
     },
     "output_type": "display_data"
    },
    {
     "data": {
      "image/png": "[encoded data removed]",
      "text/plain": [
       "<Figure size 432x288 with 1 Axes>"
      ]
     },
     "metadata": {
      "needs_background": "light"
     },
     "output_type": "display_data"
    }
   ],
   "source": [
    "PlotProb(False)\n",
    "PlotProb(True)"
   ]
  },
  {
   "cell_type": "markdown",
   "metadata": {},
   "source": [
    "From the probabilities plots, we can see that the values converge to the red horizontal lines. \n",
    "\n",
    "Such lines represent the expected probability, which can be calculated with probability theory.\n",
    "This is what we are going to see now. \n",
    "\n",
    "### Probability Trees ###\n",
    "\n",
    "We can tackle the Monty Hall problem using an analytical solution based on probability trees, which provide a simple visualization of the problem.  \n",
    "\n",
    "In first scenario, there are only two possible outcomes when the player chooses a door: either choosing a door with a car or a goat.  \n",
    "\n",
    "Given that there are 1 car and 2 goats, we can calculate the respective probabilities of getting a car $P_{C1}$ and a goat  $P_{G1}$:\n",
    "\n",
    "$$ P_{C1}= \\frac{1}{3}, \\quad P_{G1} = \\frac{2}{3}, $$\n",
    "which is equivalent to a probability of about 33% of getting a car, consistent with the results obtained by our simulation before.\n",
    "\n",
    "\n",
    "This can be visualized below with the respective probability tree.\n",
    "\n",
    "\n",
    "*\\[Probability trees can be generated in python using the library graphviz\\]*\n"
   ]
  },
  {
   "cell_type": "code",
   "execution_count": 11,
   "metadata": {
    "scrolled": true
   },
   "outputs": [
    {
     "data": {
      "image/svg+xml": [
       "<?xml version=\"1.0\" encoding=\"UTF-8\" standalone=\"no\"?>\n",
       "<!DOCTYPE svg PUBLIC \"-//W3C//DTD SVG 1.1//EN\"\n",
       " \"http://www.w3.org/Graphics/SVG/1.1/DTD/svg11.dtd\">\n",
       "<!-- Generated by graphviz version 2.38.0 (20140413.2041)\n",
       " -->\n",
       "<!-- Title: %3 Pages: 1 -->\n",
       "<svg width=\"204pt\" height=\"131pt\"\n",
       " viewBox=\"0.00 0.00 204.04 131.00\" xmlns=\"http://www.w3.org/2000/svg\" xmlns:xlink=\"http://www.w3.org/1999/xlink\">\n",
       "<g id=\"graph0\" class=\"graph\" transform=\"scale(1 1) rotate(0) translate(4 127)\">\n",
       "<title>%3</title>\n",
       "<polygon fill=\"white\" stroke=\"none\" points=\"-4,4 -4,-127 200.042,-127 200.042,4 -4,4\"/>\n",
       "<!-- A -->\n",
       "<g id=\"node1\" class=\"node\"><title>A</title>\n",
       "<ellipse fill=\"none\" stroke=\"black\" cx=\"90.6967\" cy=\"-105\" rx=\"50.0912\" ry=\"18\"/>\n",
       "<text text-anchor=\"middle\" x=\"90.6967\" y=\"-101.3\" font-family=\"Times,serif\" font-size=\"14.00\">Keep Door</text>\n",
       "</g>\n",
       "<!-- B -->\n",
       "<g id=\"node2\" class=\"node\"><title>B</title>\n",
       "<ellipse fill=\"none\" stroke=\"black\" cx=\"37.6967\" cy=\"-18\" rx=\"37.8943\" ry=\"18\"/>\n",
       "<text text-anchor=\"middle\" x=\"37.6967\" y=\"-14.3\" font-family=\"Times,serif\" font-size=\"14.00\">Car (C)</text>\n",
       "</g>\n",
       "<!-- A&#45;&gt;B -->\n",
       "<g id=\"edge1\" class=\"edge\"><title>A&#45;&gt;B</title>\n",
       "<path fill=\"none\" stroke=\"black\" d=\"M80.2256,-87.2067C72.554,-74.9033 62.0118,-57.9959 53.3428,-44.093\"/>\n",
       "<polygon fill=\"black\" stroke=\"black\" points=\"56.2267,-42.1029 47.9657,-35.4692 50.2868,-45.8066 56.2267,-42.1029\"/>\n",
       "<text text-anchor=\"middle\" x=\"76.6967\" y=\"-57.8\" font-family=\"Times,serif\" font-size=\"14.00\">1/3</text>\n",
       "</g>\n",
       "<!-- C -->\n",
       "<g id=\"node3\" class=\"node\"><title>C</title>\n",
       "<ellipse fill=\"none\" stroke=\"black\" cx=\"144.697\" cy=\"-18\" rx=\"51.1914\" ry=\"18\"/>\n",
       "<text text-anchor=\"middle\" x=\"144.697\" y=\"-14.3\" font-family=\"Times,serif\" font-size=\"14.00\">Goat (G G)</text>\n",
       "</g>\n",
       "<!-- A&#45;&gt;C -->\n",
       "<g id=\"edge2\" class=\"edge\"><title>A&#45;&gt;C</title>\n",
       "<path fill=\"none\" stroke=\"black\" d=\"M101.365,-87.2067C109.131,-74.9827 119.784,-58.2139 128.584,-44.3624\"/>\n",
       "<polygon fill=\"black\" stroke=\"black\" points=\"131.642,-46.0759 134.05,-35.7584 125.734,-42.3223 131.642,-46.0759\"/>\n",
       "<text text-anchor=\"middle\" x=\"129.697\" y=\"-57.8\" font-family=\"Times,serif\" font-size=\"14.00\">2/3</text>\n",
       "</g>\n",
       "</g>\n",
       "</svg>\n"
      ],
      "text/plain": [
       "<graphviz.dot.Digraph at 0x7f63f9b24470>"
      ]
     },
     "execution_count": 11,
     "metadata": {},
     "output_type": "execute_result"
    }
   ],
   "source": [
    "from graphviz import Digraph\n",
    "\n",
    "graph = Digraph()\n",
    "\n",
    "graph.node('A', 'Keep Door')\n",
    "graph.node('B', 'Car (C)')\n",
    "graph.node('C', 'Goat (G G)')\n",
    "\n",
    "graph.edge('A', 'B', '1/3')\n",
    "graph.edge('A', 'C', '2/3')\n",
    "\n",
    "graph"
   ]
  },
  {
   "cell_type": "markdown",
   "metadata": {},
   "source": [
    "After the player makes a door choice, a door with a goat behind is revealed. In this stage of the game, the doors statuses are:\n",
    "\n",
    "* Door: chosen\n",
    "* Door: goat\n",
    "* Door: unknown\n",
    "\n",
    "At this point, the player has the choice of keeping the chosen door or choose the remaining door (unknown). \n",
    "\n",
    "If the player chooses to keep the door choice, the probability of getting a car is the one shown above.\n",
    "\n",
    "Hovever, if the player chooses to change doors, the probability of getting a car will depend on what is behind the  originally chosen door. Such a scenario can be visualized in the probability tree below."
   ]
  },
  {
   "cell_type": "code",
   "execution_count": 12,
   "metadata": {},
   "outputs": [
    {
     "data": {
      "image/svg+xml": [
       "<?xml version=\"1.0\" encoding=\"UTF-8\" standalone=\"no\"?>\n",
       "<!DOCTYPE svg PUBLIC \"-//W3C//DTD SVG 1.1//EN\"\n",
       " \"http://www.w3.org/Graphics/SVG/1.1/DTD/svg11.dtd\">\n",
       "<!-- Generated by graphviz version 2.38.0 (20140413.2041)\n",
       " -->\n",
       "<!-- Title: %3 Pages: 1 -->\n",
       "<svg width=\"360pt\" height=\"218pt\"\n",
       " viewBox=\"0.00 0.00 360.24 218.00\" xmlns=\"http://www.w3.org/2000/svg\" xmlns:xlink=\"http://www.w3.org/1999/xlink\">\n",
       "<g id=\"graph0\" class=\"graph\" transform=\"scale(1 1) rotate(0) translate(4 214)\">\n",
       "<title>%3</title>\n",
       "<polygon fill=\"white\" stroke=\"none\" points=\"-4,4 -4,-214 356.244,-214 356.244,4 -4,4\"/>\n",
       "<!-- A -->\n",
       "<g id=\"node1\" class=\"node\"><title>A</title>\n",
       "<ellipse fill=\"none\" stroke=\"black\" cx=\"180.847\" cy=\"-192\" rx=\"57.6901\" ry=\"18\"/>\n",
       "<text text-anchor=\"middle\" x=\"180.847\" y=\"-188.3\" font-family=\"Times,serif\" font-size=\"14.00\">Change Door</text>\n",
       "</g>\n",
       "<!-- B -->\n",
       "<g id=\"node2\" class=\"node\"><title>B</title>\n",
       "<ellipse fill=\"none\" stroke=\"black\" cx=\"119.847\" cy=\"-105\" rx=\"37.8943\" ry=\"18\"/>\n",
       "<text text-anchor=\"middle\" x=\"119.847\" y=\"-101.3\" font-family=\"Times,serif\" font-size=\"14.00\">Car (C)</text>\n",
       "</g>\n",
       "<!-- A&#45;&gt;B -->\n",
       "<g id=\"edge1\" class=\"edge\"><title>A&#45;&gt;B</title>\n",
       "<path fill=\"none\" stroke=\"black\" d=\"M168.796,-174.207C159.824,-161.706 147.442,-144.452 137.377,-130.426\"/>\n",
       "<polygon fill=\"black\" stroke=\"black\" points=\"140.134,-128.265 131.46,-122.182 134.447,-132.347 140.134,-128.265\"/>\n",
       "<text text-anchor=\"middle\" x=\"163.847\" y=\"-144.8\" font-family=\"Times,serif\" font-size=\"14.00\">1/3</text>\n",
       "</g>\n",
       "<!-- C -->\n",
       "<g id=\"node3\" class=\"node\"><title>C</title>\n",
       "<ellipse fill=\"none\" stroke=\"black\" cx=\"226.847\" cy=\"-105\" rx=\"51.1914\" ry=\"18\"/>\n",
       "<text text-anchor=\"middle\" x=\"226.847\" y=\"-101.3\" font-family=\"Times,serif\" font-size=\"14.00\">Goat (G G)</text>\n",
       "</g>\n",
       "<!-- A&#45;&gt;C -->\n",
       "<g id=\"edge2\" class=\"edge\"><title>A&#45;&gt;C</title>\n",
       "<path fill=\"none\" stroke=\"black\" d=\"M189.935,-174.207C196.488,-162.099 205.453,-145.533 212.907,-131.759\"/>\n",
       "<polygon fill=\"black\" stroke=\"black\" points=\"216.097,-133.219 217.778,-122.758 209.94,-129.887 216.097,-133.219\"/>\n",
       "<text text-anchor=\"middle\" x=\"215.847\" y=\"-144.8\" font-family=\"Times,serif\" font-size=\"14.00\">2/3</text>\n",
       "</g>\n",
       "<!-- D -->\n",
       "<g id=\"node4\" class=\"node\"><title>D</title>\n",
       "<ellipse fill=\"none\" stroke=\"black\" cx=\"31.8472\" cy=\"-18\" rx=\"31.6951\" ry=\"18\"/>\n",
       "<text text-anchor=\"middle\" x=\"31.8472\" y=\"-14.3\" font-family=\"Times,serif\" font-size=\"14.00\">Car ()</text>\n",
       "</g>\n",
       "<!-- B&#45;&gt;D -->\n",
       "<g id=\"edge3\" class=\"edge\"><title>B&#45;&gt;D</title>\n",
       "<path fill=\"none\" stroke=\"black\" d=\"M103.707,-88.4097C90.0165,-75.1862 70.2137,-56.0585 54.8617,-41.2299\"/>\n",
       "<polygon fill=\"black\" stroke=\"black\" points=\"56.9194,-38.3514 47.2952,-33.9214 52.0562,-43.3863 56.9194,-38.3514\"/>\n",
       "<text text-anchor=\"middle\" x=\"85.3472\" y=\"-57.8\" font-family=\"Times,serif\" font-size=\"14.00\">0</text>\n",
       "</g>\n",
       "<!-- E -->\n",
       "<g id=\"node5\" class=\"node\"><title>E</title>\n",
       "<ellipse fill=\"none\" stroke=\"black\" cx=\"123.847\" cy=\"-18\" rx=\"42.4939\" ry=\"18\"/>\n",
       "<text text-anchor=\"middle\" x=\"123.847\" y=\"-14.3\" font-family=\"Times,serif\" font-size=\"14.00\">Goat (G)</text>\n",
       "</g>\n",
       "<!-- B&#45;&gt;E -->\n",
       "<g id=\"edge4\" class=\"edge\"><title>B&#45;&gt;E</title>\n",
       "<path fill=\"none\" stroke=\"black\" d=\"M120.657,-86.799C121.204,-75.1626 121.939,-59.5479 122.565,-46.2368\"/>\n",
       "<polygon fill=\"black\" stroke=\"black\" points=\"126.065,-46.3289 123.039,-36.1754 119.073,-45.9998 126.065,-46.3289\"/>\n",
       "<text text-anchor=\"middle\" x=\"126.347\" y=\"-57.8\" font-family=\"Times,serif\" font-size=\"14.00\">1</text>\n",
       "</g>\n",
       "<!-- F -->\n",
       "<g id=\"node6\" class=\"node\"><title>F</title>\n",
       "<ellipse fill=\"none\" stroke=\"black\" cx=\"223.847\" cy=\"-18\" rx=\"37.8943\" ry=\"18\"/>\n",
       "<text text-anchor=\"middle\" x=\"223.847\" y=\"-14.3\" font-family=\"Times,serif\" font-size=\"14.00\">Car (C)</text>\n",
       "</g>\n",
       "<!-- C&#45;&gt;F -->\n",
       "<g id=\"edge5\" class=\"edge\"><title>C&#45;&gt;F</title>\n",
       "<path fill=\"none\" stroke=\"black\" d=\"M226.24,-86.799C225.829,-75.1626 225.278,-59.5479 224.808,-46.2368\"/>\n",
       "<polygon fill=\"black\" stroke=\"black\" points=\"228.304,-46.0457 224.453,-36.1754 221.308,-46.2927 228.304,-46.0457\"/>\n",
       "<text text-anchor=\"middle\" x=\"229.347\" y=\"-57.8\" font-family=\"Times,serif\" font-size=\"14.00\">1</text>\n",
       "</g>\n",
       "<!-- G -->\n",
       "<g id=\"node7\" class=\"node\"><title>G</title>\n",
       "<ellipse fill=\"none\" stroke=\"black\" cx=\"315.847\" cy=\"-18\" rx=\"36.2938\" ry=\"18\"/>\n",
       "<text text-anchor=\"middle\" x=\"315.847\" y=\"-14.3\" font-family=\"Times,serif\" font-size=\"14.00\">Goat ()</text>\n",
       "</g>\n",
       "<!-- C&#45;&gt;G -->\n",
       "<g id=\"edge6\" class=\"edge\"><title>C&#45;&gt;G</title>\n",
       "<path fill=\"none\" stroke=\"black\" d=\"M244.007,-87.6111C257.772,-74.4651 277.234,-55.8773 292.431,-41.364\"/>\n",
       "<polygon fill=\"black\" stroke=\"black\" points=\"295.121,-43.6341 299.936,-34.1963 290.287,-38.5719 295.121,-43.6341\"/>\n",
       "<text text-anchor=\"middle\" x=\"280.347\" y=\"-57.8\" font-family=\"Times,serif\" font-size=\"14.00\">0</text>\n",
       "</g>\n",
       "</g>\n",
       "</svg>\n"
      ],
      "text/plain": [
       "<graphviz.dot.Digraph at 0x7f63f9b24470>"
      ]
     },
     "execution_count": 12,
     "metadata": {},
     "output_type": "execute_result"
    }
   ],
   "source": [
    "graph.node('A', 'Change Door')\n",
    "graph.node('D', 'Car ()')\n",
    "graph.node('E', 'Goat (G)')\n",
    "graph.node('F', 'Car (C)')\n",
    "graph.node('G', 'Goat ()')\n",
    "\n",
    "graph.edge('B', 'D', '0')\n",
    "graph.edge('B', 'E', '1')\n",
    "graph.edge('C', 'F', '1')\n",
    "graph.edge('C', 'G', '0')\n",
    "\n",
    "\n",
    "graph"
   ]
  },
  {
   "cell_type": "markdown",
   "metadata": {},
   "source": [
    "In this scenario, two possibilities can occur: \n",
    "* The first chosen door has a car, therefore, the new door choice has a goat;\n",
    "* The first chosen door has a goat, therefore, the new door choice has a car.\n",
    "\n",
    "We can define the following events:\n",
    "* First door choice has a car $P_{C1}$\n",
    "* First door choice has a goat $P_{G1}$\n",
    "* Second door choice has a car $P_{C2}$\n",
    "* Second door choice has a goat $P_{G2}$\n",
    "\n",
    "\n",
    "The total probability of getting a car $P_C$ in this scenario is given by the *conditional probabilities* of the second choice given the first choice of door. \n",
    "\n",
    "The notation for conditional probability of an event A happening given that a event B happened is: $P(A|B)$.\n",
    "\n",
    "In our case, to know the probability of getting a car after opening the second door ($C_2$), will be given by the sum of the conditional probabilities of :\n",
    "\n",
    "$$ P_C = P(C_2|C_1) + P(C_2|G_1). $$\n",
    "\n",
    "\n",
    "The conditional probabilities can be calculated by multiplying the probabilities along the probability tree. \n",
    "\n",
    "If the first door choice had a car behind it ($C_1$): \n",
    "\n",
    "$$ P(C_2|C_1) = 0 \\times \\frac{1}{3} = 0, $$\n",
    "\n",
    "$$ P(G_2|C_1) = 1 \\times \\frac{1}{3} = \\frac{1}{3}. $$\n",
    "\n",
    "If the first door choice had a goat behind it ($G_1$): \n",
    "\n",
    "\n",
    "$$ P(C_2|G_1) = 1 \\times \\frac{2}{3} = \\frac{2}{3} $$\n",
    "\n",
    "$$ P(G_2|G_1) = 0 \\times \\frac{2}{3} = 0. $$\n",
    "\n",
    "\n",
    "Putting all the conditional probabilities together, we can finally calculate the total probability of getting a car if the player chooses to change the door:\n",
    "\n",
    "$$ P_C = P(C_2|C_1) + P(C_2|G_1) = 0 + \\frac{2}{3}, $$\n",
    "which is equivalent to a probability of about 67% of getting a car. \n",
    "\n",
    "\n",
    "\n",
    "These calculations show the results that we have already calculated: *by choosing to change doors, the players increase their chances of getting a car by a factor of 2!* \n",
    "\n",
    "\n",
    "In this notebook, you have learned about:\n",
    "* Monty Hall problem,\n",
    "* Monte Carlo simulations,\n",
    "* Probability Trees and conditional probabilities.\n",
    "\n",
    "\n",
    "\n",
    "**Next challenge: you can now use the approach presented in this notebook to calculate the probabilities of  modified Monty Hall problems, such as a setup in which instead of 3 door, you have 4 doors, 3 goats and 1 car.**  \n"
   ]
  }
 ],
 "metadata": {
  "kernelspec": {
   "display_name": "Python 3",
   "language": "python",
   "name": "python3"
  },
  "language_info": {
   "codemirror_mode": {
    "name": "ipython",
    "version": 3
   },
   "file_extension": ".py",
   "mimetype": "text/x-python",
   "name": "python",
   "nbconvert_exporter": "python",
   "pygments_lexer": "ipython3",
   "version": "3.7.0"
  }
 },
 "nbformat": 4,
 "nbformat_minor": 2
}
